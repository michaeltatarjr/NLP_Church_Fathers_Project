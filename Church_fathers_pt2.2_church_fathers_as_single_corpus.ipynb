{
 "cells": [
  {
   "cell_type": "markdown",
   "id": "3770c556",
   "metadata": {},
   "source": [
    "looping all the church fathers into a single corpus, to feed into lda_model"
   ]
  },
  {
   "cell_type": "code",
   "execution_count": 1,
   "id": "5bfa38c6",
   "metadata": {},
   "outputs": [],
   "source": [
    "import re\n",
    "import glob\n",
    "from tqdm.notebook import tqdm\n",
    "import pandas as pd\n",
    "import numpy as np\n",
    "import os\n",
    "from nltk import sent_tokenize, word_tokenize, regexp_tokenize\n",
    "from nltk.corpus import stopwords\n",
    "\n",
    "import pickle"
   ]
  },
  {
   "cell_type": "code",
   "execution_count": 2,
   "id": "d5f38510",
   "metadata": {},
   "outputs": [
    {
     "data": {
      "text/plain": [
       "['../data/individual_books\\\\Address of Tatian to the Greeks.txt',\n",
       " '../data/individual_books\\\\Athenagoras the Athenian.txt',\n",
       " '../data/individual_books\\\\Clement of Alexandria Exhortation to the Heathen.txt',\n",
       " '../data/individual_books\\\\Clement of Alexandria The Salvation of the Rich Man.txt',\n",
       " '../data/individual_books\\\\Clement of Alexandria Trilogy.txt',\n",
       " '../data/individual_books\\\\Clement of Alexandria, The Stromata.txt',\n",
       " '../data/individual_books\\\\Dialogue of Justin, Philosopher and Martyr, with Trypho, a Jew.txt',\n",
       " '../data/individual_books\\\\Epistle of Adrian Antoninus and Marcus Aurelius.txt',\n",
       " '../data/individual_books\\\\Epistle of Clement of Rome.txt',\n",
       " '../data/individual_books\\\\False Ignatius.txt',\n",
       " '../data/individual_books\\\\Fragments of Papias.txt',\n",
       " '../data/individual_books\\\\Fragments of the Lost Work of Justin on the Resurrection.txt',\n",
       " '../data/individual_books\\\\Hippolytus of Rome Expository Treatise Against The Jews..txt',\n",
       " '../data/individual_books\\\\Hippolytus of Rome Treatise On Christ and Antichrist.txt',\n",
       " '../data/individual_books\\\\Igantius Syriac Epistles.txt',\n",
       " '../data/individual_books\\\\Ignatius Other.txt',\n",
       " '../data/individual_books\\\\Ireanaus Against Heresies Book III.txt',\n",
       " '../data/individual_books\\\\Ireanaus Fragments from the Lost Writings.txt',\n",
       " '../data/individual_books\\\\Irenaeus Against Heresies Book I.txt',\n",
       " '../data/individual_books\\\\Irenaeus Against Heresies Book II.txt',\n",
       " '../data/individual_books\\\\Irenaeus Against Heresies Book V.txt',\n",
       " '../data/individual_books\\\\Ireneaus Against Heresies Book IV.txt',\n",
       " \"../data/individual_books\\\\Justin's Hortatory Address to the Greeks.txt\",\n",
       " '../data/individual_books\\\\Origen.txt',\n",
       " '../data/individual_books\\\\Tertullian.txt',\n",
       " '../data/individual_books\\\\The Didache.txt',\n",
       " '../data/individual_books\\\\The Epistle of Barnabas.txt',\n",
       " '../data/individual_books\\\\The Epistle of Ignatius to Polycarp.txt',\n",
       " '../data/individual_books\\\\The Epistle of Ignatius to the Ephesians.txt',\n",
       " '../data/individual_books\\\\The Epistle of Ignatius to the Magnesians.txt',\n",
       " '../data/individual_books\\\\The Epistle of Ignatius to the Philadelphians.txt',\n",
       " '../data/individual_books\\\\The Epistle of Ignatius to the Romans.txt',\n",
       " '../data/individual_books\\\\The Epistle of Ignatius to the Smyrneans.txt',\n",
       " '../data/individual_books\\\\The Epistle of Ignatius to the Trallians.txt',\n",
       " '../data/individual_books\\\\The Epistle of Mathetes to Diognetus.txt',\n",
       " '../data/individual_books\\\\The Epistle of Polycarp to the Philippians.txt',\n",
       " '../data/individual_books\\\\The First Apology of Justin.txt',\n",
       " '../data/individual_books\\\\The Martyrdom of Ignatius.txt',\n",
       " '../data/individual_books\\\\The Martyrdom of Polycarp.txt',\n",
       " '../data/individual_books\\\\The Octavius of Minucius Felix.txt',\n",
       " '../data/individual_books\\\\The Pastor of Hermas.txt',\n",
       " '../data/individual_books\\\\The Second Apology of Justin for the Christians Addressed to the Roman Senate.txt',\n",
       " '../data/individual_books\\\\Theophilus of Antioch.txt']"
      ]
     },
     "execution_count": 2,
     "metadata": {},
     "output_type": "execute_result"
    }
   ],
   "source": [
    "filepath = glob.glob('../data/individual_books/*')\n",
    "filepath\n"
   ]
  },
  {
   "cell_type": "code",
   "execution_count": 5,
   "id": "8b0f4ad3",
   "metadata": {},
   "outputs": [],
   "source": [
    "#init a holding tank\n",
    "final_names = []\n",
    "\n",
    "#values\n",
    "def import_book(filepath):\n",
    "    with open(filepath, encoding = 'utf-8') as fi:\n",
    "        book = fi.read()\n",
    "        \n",
    "        return book\n",
    "\n",
    "Church_fathers_complete = \"\"\n",
    "\n",
    "# Process each file path in the list and combine the contents\n",
    "for path in filepath:\n",
    "    book_content = import_book(path)\n",
    "    Church_fathers_complete += book_content + \"\\n\"  # Add a newline to separate books"
   ]
  },
  {
   "cell_type": "code",
   "execution_count": 12,
   "id": "85bd54f0",
   "metadata": {},
   "outputs": [
    {
     "data": {
      "text/plain": [
       "'To the Babylonians you owe astronomy; to the\\n   Persians, magic; to the Egyptians, geometry; to the Phoenicians,\\n   instruction by alphabetic writing. Cease, then, to miscall these\\n   imitations inventions of your own. Orpheus, again, taught you poetry\\n   and song; from him, too, you learned the mysteries. '"
      ]
     },
     "execution_count": 12,
     "metadata": {},
     "output_type": "execute_result"
    }
   ],
   "source": [
    "Church_fathers_complete[712:1020]"
   ]
  },
  {
   "cell_type": "code",
   "execution_count": 13,
   "id": "7796be16",
   "metadata": {},
   "outputs": [],
   "source": [
    "with open('../data/Church_fathers_complete.txt', 'wb') as file:\n",
    "    pickle.dump(Church_fathers_complete, file)"
   ]
  },
  {
   "cell_type": "code",
   "execution_count": null,
   "id": "c62906ec",
   "metadata": {},
   "outputs": [],
   "source": []
  }
 ],
 "metadata": {
  "kernelspec": {
   "display_name": "Python 3 (ipykernel)",
   "language": "python",
   "name": "python3"
  },
  "language_info": {
   "codemirror_mode": {
    "name": "ipython",
    "version": 3
   },
   "file_extension": ".py",
   "mimetype": "text/x-python",
   "name": "python",
   "nbconvert_exporter": "python",
   "pygments_lexer": "ipython3",
   "version": "3.11.8"
  }
 },
 "nbformat": 4,
 "nbformat_minor": 5
}
